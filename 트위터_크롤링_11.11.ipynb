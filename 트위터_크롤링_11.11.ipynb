{
 "cells": [
  {
   "cell_type": "code",
   "execution_count": 5,
   "id": "KB220pb-7gwZ",
   "metadata": {
    "colab": {
     "base_uri": "https://localhost:8080/"
    },
    "id": "KB220pb-7gwZ",
    "outputId": "669087a6-e05a-4979-abc6-162bd7b9a442"
   },
   "outputs": [
    {
     "name": "stdout",
     "output_type": "stream",
     "text": [
      "Collecting snscrape\n",
      "  Downloading snscrape-0.3.4-py3-none-any.whl (35 kB)\n",
      "Requirement already satisfied: requests[socks] in /usr/local/lib/python3.7/dist-packages (from snscrape) (2.23.0)\n",
      "Requirement already satisfied: lxml in /usr/local/lib/python3.7/dist-packages (from snscrape) (4.2.6)\n",
      "Requirement already satisfied: beautifulsoup4 in /usr/local/lib/python3.7/dist-packages (from snscrape) (4.6.3)\n",
      "Requirement already satisfied: chardet<4,>=3.0.2 in /usr/local/lib/python3.7/dist-packages (from requests[socks]->snscrape) (3.0.4)\n",
      "Requirement already satisfied: urllib3!=1.25.0,!=1.25.1,<1.26,>=1.21.1 in /usr/local/lib/python3.7/dist-packages (from requests[socks]->snscrape) (1.24.3)\n",
      "Requirement already satisfied: certifi>=2017.4.17 in /usr/local/lib/python3.7/dist-packages (from requests[socks]->snscrape) (2021.10.8)\n",
      "Requirement already satisfied: idna<3,>=2.5 in /usr/local/lib/python3.7/dist-packages (from requests[socks]->snscrape) (2.10)\n",
      "Requirement already satisfied: PySocks!=1.5.7,>=1.5.6 in /usr/local/lib/python3.7/dist-packages (from requests[socks]->snscrape) (1.7.1)\n",
      "Installing collected packages: snscrape\n",
      "Successfully installed snscrape-0.3.4\n"
     ]
    }
   ],
   "source": [
    "!pip3 install snscrape"
   ]
  },
  {
   "cell_type": "code",
   "execution_count": 6,
   "id": "5c72658d",
   "metadata": {
    "id": "5c72658d"
   },
   "outputs": [],
   "source": [
    "import numpy as np\n",
    "import pandas as pd\n",
    "import string\n",
    "import os\n",
    "import snscrape\n",
    "import snscrape.modules.twitter as sntwitter\n",
    "import datetime\n",
    "import csv\n"
   ]
  },
  {
   "cell_type": "code",
   "execution_count": 7,
   "id": "645d10d6",
   "metadata": {
    "id": "645d10d6"
   },
   "outputs": [],
   "source": [
    "def tweet_list():\n",
    "    # Set maximum tweets to pull\n",
    "\n",
    "    # Set what keywords you want your twitter scraper to pull\n",
    "    keyword = '한강 의대생'\n",
    "    #Open/create a file to append data to\n",
    "    csvFile = open('crawling.csv', 'w', newline='', encoding='utf-8-sig')\n",
    "    #Use csv writer\n",
    "    csvWriter = csv.writer(csvFile)\n",
    "    csvWriter.writerow(['url','username','date','time','tweet'])\n",
    "    csvWriter.writerow(['date','tweet'])\n",
    "    # Write tweets into the csv file\n",
    "    for i,tweet in enumerate(sntwitter.TwitterSearchScraper(keyword + ' lang:ko since:2021-04-25 until:2021-07-30 include:nativeretweets').get_items()):\n",
    "            if i > 5000 :\n",
    "                break  \n",
    "            date=int(datetime.datetime.strptime(str(tweet.date)[:-6],\"%Y-%m-%d %H:%M:%S\").timestamp())+32400        \n",
    "            date=datetime.datetime.fromtimestamp(int(date)).strftime('%Y-%m-%d %H:%M:%S')\n",
    "            csvWriter.writerow([str(date).split()[0], tweet.content])\n",
    "         \n",
    "    csvFile.close()\n",
    "    df=pd.read_csv('crawling.csv')\n"
   ]
  },
  {
   "cell_type": "code",
   "execution_count": 8,
   "id": "c887c7c6",
   "metadata": {
    "id": "c887c7c6"
   },
   "outputs": [],
   "source": [
    "tweet_list()"
   ]
  }
 ],
 "metadata": {
  "colab": {
   "collapsed_sections": [],
   "name": "twitter_crawling.ipynb",
   "provenance": []
  },
  "kernelspec": {
   "display_name": "Python 3 (ipykernel)",
   "language": "python",
   "name": "python3"
  },
  "language_info": {
   "codemirror_mode": {
    "name": "ipython",
    "version": 3
   },
   "file_extension": ".py",
   "mimetype": "text/x-python",
   "name": "python",
   "nbconvert_exporter": "python",
   "pygments_lexer": "ipython3",
   "version": "3.9.5"
  }
 },
 "nbformat": 4,
 "nbformat_minor": 5
}
